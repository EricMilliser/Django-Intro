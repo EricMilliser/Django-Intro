{
 "cells": [
  {
   "cell_type": "markdown",
   "id": "1b7ae0f7-fb5c-4b46-85cc-e7e175042bbc",
   "metadata": {},
   "source": [
    "## Main Program"
   ]
  },
  {
   "cell_type": "code",
   "execution_count": null,
   "id": "79be4b59-5060-4817-8d86-0563c719f231",
   "metadata": {},
   "outputs": [],
   "source": [
    "import unittest\n",
    "from my_sum import sum\n",
    "from fractions import Fraction\n",
    "\n",
    "\n",
    "\n",
    "\n",
    "class TestSum(unittest.TestCase):\n",
    "    def test_list_int(self):\n",
    "        \"\"\"\n",
    "        Test that it can sum a list of integers\n",
    "        \"\"\"\n",
    "        data = [1,2,3]\n",
    "        result = sum(data)\n",
    "        self.assertEqual(result, 6)\n",
    "\n",
    "\n",
    "    def test_list_fraction(self):\n",
    "        \"\"\"\n",
    "        Test that it can sum a list of fractions\n",
    "        \"\"\"\n",
    "        data = [Fraction(1,4), Fraction(1,4), Fraction(2, 5)]\n",
    "        result = sum(data)\n",
    "        self.assertEqual(result, 1)\n",
    "\n",
    "\n",
    "\n",
    "\n",
    "\n",
    "\n",
    "\n",
    "if __name__ == '__main__':\n",
    "    unittest.main()\n"
   ]
  },
  {
   "cell_type": "markdown",
   "id": "4cb15841-0c4f-4e84-8d9f-6ec98b7a641b",
   "metadata": {},
   "source": [
    "## my_sum __init__.py"
   ]
  },
  {
   "cell_type": "code",
   "execution_count": null,
   "id": "b02cb9fd-1a0d-4084-b68d-ded3b3d206eb",
   "metadata": {},
   "outputs": [],
   "source": [
    "\n",
    "def sum(arg):\n",
    "    total = 0\n",
    "    for val in arg:\n",
    "        total += val\n",
    "    return total\n"
   ]
  },
  {
   "cell_type": "markdown",
   "id": "9b12e263-58aa-49f3-a8d0-5c7976f554d1",
   "metadata": {},
   "source": [
    "## Unittest Example"
   ]
  },
  {
   "cell_type": "code",
   "execution_count": null,
   "id": "9a416b9a-d5a0-4eec-a199-cbee6b24bdf5",
   "metadata": {},
   "outputs": [],
   "source": [
    "import unittest\n",
    "\n",
    "\n",
    "\n",
    "#def test_sum_less_than_ten(a: int, b: int): #function to test using an assert statement if a sum is less than ten.\n",
    "    #assert sum([a, b]) < 10, \"Sum should be less than ten.\" #Test condition\n",
    "\n",
    "#num1 = 0\n",
    "#num2 = 0\n",
    "\n",
    "#print(\"Program to test using assert if sum is less than ten.\\n\") #Base print to initiate the program\n",
    "#num1 = input(\"Enter a first number.\") #prompt input\n",
    "#print(\"\\n\") # blank line\n",
    "#num2 = input(\"Enter a second number. \") # prompt input\n",
    "#print(\"\\n\") # blank line\n",
    "\n",
    "#typecast the strings to integers\n",
    "#num1 = int(num1)\n",
    "#num2 = int(num2)\n",
    "\n",
    "#test_sum_less_than_ten(num1, num2) #perform the test \n",
    "#print(\"Everything passed\") #print if there was not an error thrown\n",
    "\n",
    "\n",
    "#class TestSum(unittest.TestCase):\n",
    "\n",
    "    #def test_sum(self):\n",
    "        #self.assertEqual(sum((1,2,3)), 6, \"Should be 6\")\n",
    "\n",
    "    #def test_sum_tuple(self):\n",
    "        #self.assertEqual(sum((1,2,4)), 6, \"Should be 6\")\n",
    "\n",
    "\n",
    "    \n",
    "    \n",
    "#if __name__ == '__main__':\n",
    "        #unittest.main()\n",
    "\n"
   ]
  }
 ],
 "metadata": {
  "kernelspec": {
   "display_name": "Python 3 (ipykernel)",
   "language": "python",
   "name": "python3"
  },
  "language_info": {
   "codemirror_mode": {
    "name": "ipython",
    "version": 3
   },
   "file_extension": ".py",
   "mimetype": "text/x-python",
   "name": "python",
   "nbconvert_exporter": "python",
   "pygments_lexer": "ipython3",
   "version": "3.11.7"
  }
 },
 "nbformat": 4,
 "nbformat_minor": 5
}
