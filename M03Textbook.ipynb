{
 "cells": [
  {
   "cell_type": "markdown",
   "id": "3e291b6a-b70b-4896-9483-50a50d771e65",
   "metadata": {},
   "source": [
    "## 7.4 Make a list called things with these three strings as elements: \"mozzarella\", \"cinderella\", \"salmonella\".\r\n",
    "\r\n"
   ]
  },
  {
   "cell_type": "code",
   "execution_count": 3,
   "id": "2d046738-d769-43f5-afe1-2df8446cee49",
   "metadata": {},
   "outputs": [],
   "source": [
    "things = [\"mozzarella\", \"cinderella\", \"salmonella\"]"
   ]
  },
  {
   "cell_type": "markdown",
   "id": "3f3028a1-fd0f-4a0d-a295-282dd271fb46",
   "metadata": {},
   "source": [
    "## 7.5 Capitalize the element in things that refers to a person and then print the list. Did it change the element in the list?"
   ]
  },
  {
   "cell_type": "code",
   "execution_count": 14,
   "id": "6115d0bf-95be-4a0f-9710-314e0ba5a7db",
   "metadata": {},
   "outputs": [
    {
     "name": "stdout",
     "output_type": "stream",
     "text": [
      "cinderella\n",
      "Cinderella\n"
     ]
    }
   ],
   "source": [
    "things = [\"mozzarella\", \"cinderella\", \"salmonella\"]\n",
    "print(things[1])\n",
    "things[1] = \"Cinderella\"\n",
    "print(things[1])"
   ]
  },
  {
   "cell_type": "markdown",
   "id": "8ec16f9f-14a6-4ecd-87e8-e45d5387a09f",
   "metadata": {},
   "source": [
    "## 7.6 Make the cheesy element of things all uppercase and then print the list."
   ]
  },
  {
   "cell_type": "code",
   "execution_count": 18,
   "id": "1d98910d-d15b-410f-b11d-e0d93c5190af",
   "metadata": {},
   "outputs": [
    {
     "name": "stdout",
     "output_type": "stream",
     "text": [
      "mozzarella\n",
      "MOZZARELLA\n"
     ]
    }
   ],
   "source": [
    "things = [\"mozzarella\", \"cinderella\", \"salmonella\"]\n",
    "print(things[0])\n",
    "things[0] = \"MOZZARELLA\"\n",
    "print(things[0])"
   ]
  },
  {
   "cell_type": "markdown",
   "id": "9ec8d268-c00e-4592-a5d8-1c1fc7818d56",
   "metadata": {},
   "source": [
    "## 7.7 Delete the disease element from things, collect your Nobel Prize, and print the list."
   ]
  },
  {
   "cell_type": "code",
   "execution_count": 27,
   "id": "ca5ed259-7841-4579-a4a1-9c5e28966b53",
   "metadata": {},
   "outputs": [
    {
     "name": "stdout",
     "output_type": "stream",
     "text": [
      "mozzarella\n",
      "cinderella\n",
      "You won a Nobel Prize\n"
     ]
    }
   ],
   "source": [
    "things = [\"mozzarella\", \"cinderella\", \"salmonella\"]\n",
    "del things[2]\n",
    "nobelPrize = True\n",
    "for thing in things:\n",
    "    print(thing)\n",
    "if nobelPrize == True:\n",
    "    print(\"You won a Nobel Prize\")"
   ]
  },
  {
   "cell_type": "markdown",
   "id": "f64d1f84-1c50-4663-b65d-fdc0b7c3e26c",
   "metadata": {},
   "source": [
    "## 9.1 Define a function called good() that returns the following list: ['Harry', 'Ron', 'Hermione']."
   ]
  },
  {
   "cell_type": "code",
   "execution_count": 28,
   "id": "927d3102-6556-4409-bd74-95c11dbbd067",
   "metadata": {},
   "outputs": [
    {
     "data": {
      "text/plain": [
       "['Harry', 'Ron', 'Hermione']"
      ]
     },
     "execution_count": 28,
     "metadata": {},
     "output_type": "execute_result"
    }
   ],
   "source": [
    "def good():\n",
    "    list = ['Harry', 'Ron', 'Hermione']\n",
    "    return list\n",
    "\n",
    "good()"
   ]
  },
  {
   "cell_type": "markdown",
   "id": "f113c9d6-6d55-494e-a4f5-dc79fbc80d1b",
   "metadata": {},
   "source": [
    "## 9.2 Define a generator function called get_odds() that returns the odd numbers from range(10). Use a for loop to find and print the third value returned."
   ]
  },
  {
   "cell_type": "code",
   "execution_count": 30,
   "id": "9d8d61f3-e1ee-4bac-8d00-0885322a8c3f",
   "metadata": {},
   "outputs": [
    {
     "data": {
      "text/plain": [
       "[1, 3, 5, 7, 9]"
      ]
     },
     "execution_count": 30,
     "metadata": {},
     "output_type": "execute_result"
    }
   ],
   "source": [
    "def get_odds():\n",
    "    list = []\n",
    "    for i in range(10):\n",
    "        if i % 2 > 0:\n",
    "            list.append(i)\n",
    "    return list\n",
    "\n",
    "get_odds()"
   ]
  },
  {
   "cell_type": "code",
   "execution_count": null,
   "id": "ad017a18-7a81-4618-9939-910028bd3c53",
   "metadata": {},
   "outputs": [],
   "source": []
  }
 ],
 "metadata": {
  "kernelspec": {
   "display_name": "Python 3 (ipykernel)",
   "language": "python",
   "name": "python3"
  },
  "language_info": {
   "codemirror_mode": {
    "name": "ipython",
    "version": 3
   },
   "file_extension": ".py",
   "mimetype": "text/x-python",
   "name": "python",
   "nbconvert_exporter": "python",
   "pygments_lexer": "ipython3",
   "version": "3.11.7"
  }
 },
 "nbformat": 4,
 "nbformat_minor": 5
}
