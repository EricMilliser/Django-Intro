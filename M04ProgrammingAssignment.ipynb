{
 "cells": [
  {
   "cell_type": "markdown",
   "id": "ff54a437-ad36-42a3-8ea6-c654d77f7035",
   "metadata": {},
   "source": [
    "## 11.1 Create a file called zoo.py. In it, define a function called hours() that prints the string 'Open 9-5 daily'. Then, use the interactive interpreter to import the zoo module and call its hours() function."
   ]
  },
  {
   "cell_type": "code",
   "execution_count": 7,
   "id": "905f6785-de57-4351-b612-92486b98580e",
   "metadata": {},
   "outputs": [
    {
     "name": "stdout",
     "output_type": "stream",
     "text": [
      "Open 9-5 Daily\n"
     ]
    }
   ],
   "source": [
    "#zoo.py\n",
    "def hours():\n",
    "    print(\"Open 9-5 Daily\")\n",
    "\n",
    "#terminal commands\n",
    "#import zoo.py ->\n",
    "#hours() ->\n",
    "hours()"
   ]
  },
  {
   "cell_type": "markdown",
   "id": "2c7f4801-8041-494d-a364-7eb304243c54",
   "metadata": {},
   "source": [
    "## 11.2 In the interactive interpreter, import the zoo module as menagerie and call its hours() function."
   ]
  },
  {
   "cell_type": "code",
   "execution_count": null,
   "id": "ee42c878-eac3-48db-8e92-47c49fd314e9",
   "metadata": {},
   "outputs": [],
   "source": [
    "#commands\n",
    "#import managerie\n",
    "#managerie.hours()"
   ]
  },
  {
   "cell_type": "markdown",
   "id": "2223211a-52d8-4687-8900-81276f3b1658",
   "metadata": {},
   "source": [
    "## 16.8 Use the sqlalchemy module to connect to the sqlite3 database books.db that you just made in exercise 16.4. As in 16.6, select and print the title column from the book table in alphabetical order"
   ]
  },
  {
   "cell_type": "code",
   "execution_count": 1,
   "id": "3ae3dcaa-e48a-4e8a-bd21-58c2024b14ab",
   "metadata": {},
   "outputs": [
    {
     "ename": "IndentationError",
     "evalue": "expected an indented block after 'try' statement on line 8 (2148430014.py, line 10)",
     "output_type": "error",
     "traceback": [
      "\u001b[1;36m  Cell \u001b[1;32mIn[1], line 10\u001b[1;36m\u001b[0m\n\u001b[1;33m    cursor = c1.cursor()\u001b[0m\n\u001b[1;37m                        ^\u001b[0m\n\u001b[1;31mIndentationError\u001b[0m\u001b[1;31m:\u001b[0m expected an indented block after 'try' statement on line 8\n"
     ]
    }
   ],
   "source": [
    "import sqlite3\n",
    "\n",
    "\n",
    "c1 = sqlite3.connect('books.db')\n",
    "\n",
    "\n",
    "\n",
    "cursor = c1.cursor()\n",
    "\n",
    "cursor.execute('''\n",
    "CREATE TABLE IF NOT EXISTS Books (\n",
    "    ID INTEGER PRIMARY KEY,\n",
    "    title TEXT NOT NULL,\n",
    "    author TEXT NOT NULL,\n",
    "    publisher TEXT NOT NULL,\n",
    "    )\n",
    "    ''')\n",
    "\n",
    "\n",
    "\n",
    "\n",
    "c1.commit()\n",
    "c1.close()"
   ]
  },
  {
   "cell_type": "code",
   "execution_count": 10,
   "id": "bfda573d-4da4-43fd-a14a-e8e9bb4aac4c",
   "metadata": {},
   "outputs": [
    {
     "ename": "KeyError",
     "evalue": "'Books'",
     "output_type": "error",
     "traceback": [
      "\u001b[1;31m---------------------------------------------------------------------------\u001b[0m",
      "\u001b[1;31mKeyError\u001b[0m                                  Traceback (most recent call last)",
      "Cell \u001b[1;32mIn[10], line 9\u001b[0m\n\u001b[0;32m      7\u001b[0m metData \u001b[38;5;241m=\u001b[39m MetaData()\n\u001b[0;32m      8\u001b[0m metData\u001b[38;5;241m.\u001b[39mreflect(bind\u001b[38;5;241m=\u001b[39meng)\n\u001b[1;32m----> 9\u001b[0m tableBooks \u001b[38;5;241m=\u001b[39m metData\u001b[38;5;241m.\u001b[39mtables[\u001b[38;5;124m'\u001b[39m\u001b[38;5;124mBooks\u001b[39m\u001b[38;5;124m'\u001b[39m]\n\u001b[0;32m     12\u001b[0m find \u001b[38;5;241m=\u001b[39m select([tableBooks\u001b[38;5;241m.\u001b[39mc\u001b[38;5;241m.\u001b[39mtitle]\u001b[38;5;241m.\u001b[39morder_by(tableBooks\u001b[38;5;241m.\u001b[39mc\u001b[38;5;241m.\u001b[39mtitle))\n\u001b[0;32m     16\u001b[0m \u001b[38;5;28;01mwith\u001b[39;00m c0 \u001b[38;5;28;01mas\u001b[39;00m connection:\n",
      "\u001b[1;31mKeyError\u001b[0m: 'Books'"
     ]
    }
   ],
   "source": [
    "from sqlalchemy import create_engine, MetaData, Table\n",
    "from sqlalchemy.sql import select\n",
    "\n",
    "eng = create_engine('sqlite:///books.db')\n",
    "c0 = eng.connect()\n",
    "\n",
    "metData = MetaData()\n",
    "metData.reflect(bind=eng)\n",
    "tableBooks = metData.tables['Books']\n",
    "\n",
    "\n",
    "find = select([tableBooks.c.title].order_by(tableBooks.c.title))\n",
    "\n",
    "\n",
    "\n",
    "with c0 as connection:\n",
    "    result = connection.execute(find)\n",
    "    for row in result:\n",
    "        print(row.title)\n",
    "\n",
    "\n",
    "\n"
   ]
  },
  {
   "cell_type": "code",
   "execution_count": null,
   "id": "157842a6-5fd8-4010-89f6-2f5dc8200492",
   "metadata": {},
   "outputs": [],
   "source": []
  },
  {
   "cell_type": "code",
   "execution_count": null,
   "id": "77b9f648-3910-4b1c-a34b-4e4b2761f492",
   "metadata": {},
   "outputs": [],
   "source": []
  }
 ],
 "metadata": {
  "kernelspec": {
   "display_name": "Python 3 (ipykernel)",
   "language": "python",
   "name": "python3"
  },
  "language_info": {
   "codemirror_mode": {
    "name": "ipython",
    "version": 3
   },
   "file_extension": ".py",
   "mimetype": "text/x-python",
   "name": "python",
   "nbconvert_exporter": "python",
   "pygments_lexer": "ipython3",
   "version": "3.11.7"
  }
 },
 "nbformat": 4,
 "nbformat_minor": 5
}
