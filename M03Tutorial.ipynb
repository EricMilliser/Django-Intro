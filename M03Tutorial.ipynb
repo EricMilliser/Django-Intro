{
 "cells": [
  {
   "cell_type": "markdown",
   "id": "fa0bd0ee-5d96-47ef-8d2b-88d16ef8d9c6",
   "metadata": {},
   "source": [
    "## EXAMPLE OF PYTHON CLASS AND OBJECT"
   ]
  },
  {
   "cell_type": "markdown",
   "id": "000f5322-b2d7-46ba-8b28-4e9d2e8e769c",
   "metadata": {},
   "source": [
    "# Python3 program to\n",
    "# demonstrate instantiating\n",
    "# a class\n",
    "class Dog: # class named dog\n",
    "\n",
    "    # A simple class\n",
    "    # attribute\n",
    "    attr1 = \"mammal\" #string attribute called mammal\n",
    "    attr2 = \"dog\" #string attribute called dog\n",
    "\n",
    "    # A sample method\n",
    "    def fun(self): #function definition regarding the self of the class \n",
    "        #self is a placeholder value for the name of the class that is name\n",
    "        print(\"I'm a\", self.attr1) #print attribute one using member access '.'\n",
    "        print(\"I'm a\", self.attr2) #print attribute two\n",
    "\n",
    "\n",
    "# Driver code\n",
    "# Object instantiation\n",
    "Rodger = Dog() #constrontour\n",
    "\n",
    "# Accessing class attributes\n",
    "# and method through objects\n",
    "print(Rodger.attr1) #print attribute one\n",
    "Rodger.fun() #do the .fun() function"
   ]
  },
  {
   "cell_type": "markdown",
   "id": "aa7d3a09-ab3e-4d68-a4e3-48c222527b70",
   "metadata": {},
   "source": [
    "## Example of the self parameter"
   ]
  },
  {
   "cell_type": "code",
   "execution_count": 2,
   "id": "3cd5d21b-e38f-4dbe-b2c6-0abf853c5a0c",
   "metadata": {},
   "outputs": [
    {
     "name": "stdout",
     "output_type": "stream",
     "text": [
      "Hello my name is John and I work in GeeksForGeeks.\n"
     ]
    }
   ],
   "source": [
    "class GFG:\n",
    "    def __init__(self, name, company):\n",
    "        self.name = name\n",
    "        self.company = company\n",
    "\n",
    "    def show(self):\n",
    "        print(\"Hello my name is \" + self.name+\" and I\" +\n",
    "              \" work in \"+self.company+\".\")\n",
    "#Using the same self as a placeholder to access everything\n",
    "\n",
    "obj = GFG(\"John\", \"GeeksForGeeks\") #constructor with the actual paramters in the initiation function\n",
    "obj.show()"
   ]
  },
  {
   "cell_type": "markdown",
   "id": "f6630b1d-eddc-4913-be37-9a55073e8664",
   "metadata": {},
   "source": [
    "## Example showing it can be any value in the functions"
   ]
  },
  {
   "cell_type": "code",
   "execution_count": 3,
   "id": "30db380e-3470-41e7-bfd7-cb80c8fda42b",
   "metadata": {},
   "outputs": [
    {
     "name": "stdout",
     "output_type": "stream",
     "text": [
      "Hello my name is John and I work in GeeksForGeeks.\n"
     ]
    }
   ],
   "source": [
    "class GFG:\n",
    "    def __init__(somename, name, company):\n",
    "        somename.name = name\n",
    "        somename.company = company\n",
    "\n",
    "    def show(somename):\n",
    "        print(\"Hello my name is \" + somename.name +\n",
    "              \" and I work in \"+somename.company+\".\")\n",
    "\n",
    "\n",
    "obj = GFG(\"John\", \"GeeksForGeeks\")\n",
    "obj.show()"
   ]
  },
  {
   "cell_type": "markdown",
   "id": "9e664bcf-e9d8-47ee-9058-a33f0cd6b5ac",
   "metadata": {},
   "source": [
    "## Example depicting the __init__() method."
   ]
  },
  {
   "cell_type": "code",
   "execution_count": 4,
   "id": "98972199-2b17-41e1-93fa-769015f82c0a",
   "metadata": {},
   "outputs": [
    {
     "name": "stdout",
     "output_type": "stream",
     "text": [
      "Hello, my name is Nikhil\n"
     ]
    }
   ],
   "source": [
    "# Sample class with init method\n",
    "class Person:\n",
    "\n",
    "    # init method or constructor\n",
    "    def __init__(self, name):\n",
    "        self.name = name\n",
    "\n",
    "    # Sample Method\n",
    "    def say_hi(self):\n",
    "        print('Hello, my name is', self.name)\n",
    "\n",
    "\n",
    "p = Person('Nikhil')\n",
    "p.say_hi()"
   ]
  },
  {
   "cell_type": "markdown",
   "id": "e97eafb0-c2f5-4c27-8ee6-fe3d1cf59a5f",
   "metadata": {},
   "source": [
    "## Example using the __str__() method."
   ]
  },
  {
   "cell_type": "code",
   "execution_count": 5,
   "id": "eb498730-c852-4f66-9d03-faabb73f8f00",
   "metadata": {},
   "outputs": [
    {
     "name": "stdout",
     "output_type": "stream",
     "text": [
      "My name is John and I work in GeeksForGeeks.\n"
     ]
    }
   ],
   "source": [
    "class GFG:\n",
    "    def __init__(self, name, company):\n",
    "        self.name = name\n",
    "        self.company = company\n",
    "\n",
    "    def __str__(self):\n",
    "        return f\"My name is {self.name} and I work in {self.company}.\"\n",
    "\n",
    "\n",
    "my_obj = GFG(\"John\", \"GeeksForGeeks\")\n",
    "print(my_obj)"
   ]
  },
  {
   "cell_type": "markdown",
   "id": "08092f69-f7c1-4fdc-829f-c06aef5eb028",
   "metadata": {},
   "source": [
    "## Example of the instance variables in the objects"
   ]
  },
  {
   "cell_type": "markdown",
   "id": "5fe9302b-a2af-41ae-a69a-25059512b2ea",
   "metadata": {},
   "source": [
    "# Python3 program to show that the variables with a value\n",
    "# assigned in the class declaration, are class variables and\n",
    "# variables inside methods and constructors are instance\n",
    "# variables.\n",
    "\n",
    "# Class for Dog\n",
    "\n",
    "\n",
    "class Dog:\n",
    "\n",
    "    # Class Variable\n",
    "    animal = 'dog'\n",
    "\n",
    "    # The init method or constructor\n",
    "    def __init__(self, breed, color):\n",
    "\n",
    "        # Instance Variable\n",
    "        self.breed = breed\n",
    "        self.color = color\n",
    "\n",
    "\n",
    "# Objects of Dog class\n",
    "Rodger = Dog(\"Pug\", \"brown\")\n",
    "Buzo = Dog(\"Bulldog\", \"black\")\n",
    "\n",
    "print('Rodger details:')\n",
    "print('Rodger is a', Rodger.animal)\n",
    "print('Breed: ', Rodger.breed)\n",
    "print('Color: ', Rodger.color)\n",
    "\n",
    "print('\\nBuzo details:')\n",
    "print('Buzo is a', Buzo.animal)\n",
    "print('Breed: ', Buzo.breed)\n",
    "print('Color: ', Buzo.color)\n",
    "\n",
    "# Class variables can be accessed using class\n",
    "# name also\n",
    "print(\"\\nAccessing class variable using class name\")\n",
    "print(Dog.animal)"
   ]
  },
  {
   "cell_type": "markdown",
   "id": "3781321a-13f2-47ea-b4b3-d9214b2cfe3f",
   "metadata": {},
   "source": [
    "## Example of the setter and getter functions in object oriented programming"
   ]
  },
  {
   "cell_type": "code",
   "execution_count": 7,
   "id": "79df6b8e-66f6-475d-aef1-e040c91f48b0",
   "metadata": {},
   "outputs": [
    {
     "name": "stdout",
     "output_type": "stream",
     "text": [
      "brown\n"
     ]
    }
   ],
   "source": [
    "# Python3 program to show that we can create\n",
    "# instance variables inside methods\n",
    "\n",
    "# Class for Dog\n",
    "\n",
    "\n",
    "class Dog:\n",
    "\n",
    "    # Class Variable\n",
    "    animal = 'dog'\n",
    "\n",
    "    # The init method or constructor\n",
    "    def __init__(self, breed):\n",
    "\n",
    "        # Instance Variable\n",
    "        self.breed = breed\n",
    "\n",
    "    # Adds an instance variable\n",
    "    def setColor(self, color):\n",
    "        self.color = color\n",
    "\n",
    "    # Retrieves instance variable\n",
    "    def getColor(self):\n",
    "        return self.color\n",
    "\n",
    "\n",
    "# Driver Code\n",
    "Rodger = Dog(\"pug\")\n",
    "Rodger.setColor(\"brown\")\n",
    "print(Rodger.getColor())"
   ]
  },
  {
   "cell_type": "markdown",
   "id": "e549963f-ab62-41c8-9b85-7f8d07c09549",
   "metadata": {},
   "source": [
    "## Lambda function to create anonymous functions"
   ]
  },
  {
   "cell_type": "code",
   "execution_count": 8,
   "id": "616a99a9-d263-4128-8a85-895764548f18",
   "metadata": {},
   "outputs": [
    {
     "name": "stdout",
     "output_type": "stream",
     "text": [
      "Even number\n"
     ]
    }
   ],
   "source": [
    "\n",
    "\n",
    "calc = lambda num: \"Even number\" if num % 2 == 0 else \"Odd number\"\n",
    " \n",
    "print(calc(20))"
   ]
  },
  {
   "cell_type": "markdown",
   "id": "7adb39c1-2c42-48f3-b79a-f4681d2014d7",
   "metadata": {},
   "source": [
    "## Demostration of return type of lambda in python"
   ]
  },
  {
   "cell_type": "code",
   "execution_count": 9,
   "id": "4b0ec2bc-1fbd-403e-96bc-31d6de8aba38",
   "metadata": {},
   "outputs": [
    {
     "name": "stdout",
     "output_type": "stream",
     "text": [
      "<function <lambda> at 0x000001EC576A1DA0>\n"
     ]
    }
   ],
   "source": [
    "\n",
    "\n",
    "string = 'GeeksforGeeks'\n",
    " \n",
    "# lambda returns a function object\n",
    "print(lambda string: string)"
   ]
  },
  {
   "cell_type": "markdown",
   "id": "f1b7f57f-8642-4660-91ff-b844401ddb04",
   "metadata": {},
   "source": [
    "## Example of Lambda being used in various functions"
   ]
  },
  {
   "cell_type": "markdown",
   "id": "a14ef083-2dc8-4825-a68c-c1e10a10caa3",
   "metadata": {},
   "source": [
    "\n",
    "\n",
    "filter_nums = lambda s: ''.join([ch for ch in s if not ch.isdigit()])\n",
    "print(\"filter_nums():\", filter_nums(\"Geeks101\"))\n",
    " \n",
    "do_exclaim = lambda s: s + '!'\n",
    "print(\"do_exclaim():\", do_exclaim(\"I am tired\"))\n",
    " \n",
    "find_sum = lambda n: sum([int(x) for x in str(n)])\n",
    "print(\"find_sum():\", find_sum(101))"
   ]
  },
  {
   "cell_type": "markdown",
   "id": "9c2523eb-b17a-4631-9ae4-d8fbd8c950c6",
   "metadata": {},
   "source": [
    "## Example of Lambda function versus other Function"
   ]
  },
  {
   "cell_type": "code",
   "execution_count": 11,
   "id": "e5f19cca-aa90-4f4f-8ec6-f45774966426",
   "metadata": {},
   "outputs": [
    {
     "name": "stdout",
     "output_type": "stream",
     "text": [
      "invoking function defined with def keyword:\n",
      "Finding cube of number:30\n",
      "27000\n",
      "invoking lambda function: 27000\n"
     ]
    }
   ],
   "source": [
    "\n",
    "\n",
    "def cube(y):\n",
    "    print(f\"Finding cube of number:{y}\")\n",
    "    return y * y * y\n",
    " \n",
    " \n",
    "lambda_cube = lambda num: num ** 3\n",
    " \n",
    "# invoking simple function\n",
    "print(\"invoking function defined with def keyword:\")\n",
    "print(cube(30))\n",
    "# invoking lambda function\n",
    "print(\"invoking lambda function:\", lambda_cube(30))"
   ]
  },
  {
   "cell_type": "markdown",
   "id": "01054af7-5e9e-44fd-861f-2fe6a1372e5c",
   "metadata": {},
   "source": [
    "## Example of lambda inside another function"
   ]
  },
  {
   "cell_type": "code",
   "execution_count": 12,
   "id": "b39aff45-6207-4a14-99a0-d4f934f8afd9",
   "metadata": {},
   "outputs": [
    {
     "name": "stdout",
     "output_type": "stream",
     "text": [
      "Sorted numerically: ['-2', '-1', '0', '1', '2', '9']\n",
      "Filtered positive even numbers: ['1', '9', '0', '-1', '-2']\n",
      "Operation on each item using lambda and map() ['11', '12', '19', '10', '9', '8']\n"
     ]
    }
   ],
   "source": [
    "\n",
    "\n",
    "l = [\"1\", \"2\", \"9\", \"0\", \"-1\", \"-2\"]\n",
    "# sort list[str] numerically using sorted()\n",
    "# and custom sorting key using lambda\n",
    "print(\"Sorted numerically:\",\n",
    "      sorted(l, key=lambda x: int(x)))\n",
    " \n",
    "# filter positive even numbers\n",
    "# using filter() and lambda function\n",
    "print(\"Filtered positive even numbers:\", \n",
    "      list(filter(lambda x: not (int(x) % 2 == 0 and int(x) > 0), l)))\n",
    " \n",
    "# added 10 to each item after type and\n",
    "# casting to int, then convert items to string again\n",
    "print(\"Operation on each item using lambda and map()\",\n",
    "      list(map(lambda x: str(int(x) + 10), l)))"
   ]
  },
  {
   "cell_type": "markdown",
   "id": "5c2023c9-b6ab-4aed-9a49-0120f78d9c40",
   "metadata": {},
   "source": [
    "## Lambda being used to filter out odd numbers"
   ]
  },
  {
   "cell_type": "code",
   "execution_count": 13,
   "id": "37e00bcf-e2ef-47bd-8c78-e47e319ffac3",
   "metadata": {},
   "outputs": [
    {
     "name": "stdout",
     "output_type": "stream",
     "text": [
      "[1, 3, 5]\n"
     ]
    }
   ],
   "source": [
    "\n",
    "\n",
    "# Example list\n",
    "my_list = [1, 2, 3, 4, 5]\n",
    " \n",
    "# Use lambda to filter out even numbers from the list\n",
    "new_list = list(filter(lambda x: x % 2 != 0, my_list))\n",
    " \n",
    "# Print the new list\n",
    "print(new_list)"
   ]
  },
  {
   "cell_type": "code",
   "execution_count": null,
   "id": "6251de60-7222-4f19-906e-6f32144980f0",
   "metadata": {},
   "outputs": [],
   "source": []
  }
 ],
 "metadata": {
  "kernelspec": {
   "display_name": "Python 3 (ipykernel)",
   "language": "python",
   "name": "python3"
  },
  "language_info": {
   "codemirror_mode": {
    "name": "ipython",
    "version": 3
   },
   "file_extension": ".py",
   "mimetype": "text/x-python",
   "name": "python",
   "nbconvert_exporter": "python",
   "pygments_lexer": "ipython3",
   "version": "3.11.7"
  }
 },
 "nbformat": 4,
 "nbformat_minor": 5
}
